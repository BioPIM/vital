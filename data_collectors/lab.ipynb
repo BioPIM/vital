{
 "cells": [
  {
   "cell_type": "code",
   "execution_count": null,
   "metadata": {},
   "outputs": [],
   "source": [
    "from ncbi_genome import NCBIGenome\n",
    "from covid19_genome import Covid19Genome"
   ]
  },
  {
   "cell_type": "code",
   "execution_count": null,
   "metadata": {},
   "outputs": [],
   "source": [
    "ncbi_genome = NCBIGenome()\n",
    "\n",
    "## Extract the taxa names from the file\n",
    "with open(\"pathogenic-bacteria-taxa.txt\", \"r\") as f:\n",
    "    taxa = [line.strip() for line in f]\n",
    "\n",
    "## Download the accessions\n",
    "ncbi_genome.downloadAccessions(taxa, 100)"
   ]
  },
  {
   "cell_type": "code",
   "execution_count": null,
   "metadata": {},
   "outputs": [],
   "source": [
    "covid19_genome = Covid19Genome()\n",
    "covid19_genome.downloadLineages(accs_thresh = 256, max_accs = 256)"
   ]
  }
 ],
 "metadata": {
  "kernelspec": {
   "display_name": "covit",
   "language": "python",
   "name": "python3"
  },
  "language_info": {
   "codemirror_mode": {
    "name": "ipython",
    "version": 3
   },
   "file_extension": ".py",
   "mimetype": "text/x-python",
   "name": "python",
   "nbconvert_exporter": "python",
   "pygments_lexer": "ipython3",
   "version": "3.9.16"
  },
  "orig_nbformat": 4
 },
 "nbformat": 4,
 "nbformat_minor": 2
}
