{
 "cells": [
  {
   "cell_type": "code",
   "execution_count": null,
   "metadata": {},
   "outputs": [],
   "source": [
    "import os\n",
    "# os.environ[\"CUDA_VISIBLE_DEVICES\"] = \"-1\" # Uncomment to disable GPU\n",
    "from model import Model, DatasetName, load_model, remove_model\n",
    "import numpy as np\n",
    "import glob\n",
    "\n",
    "__ORIG_WD__ = os.getcwd()\n",
    "\n",
    "os.chdir(f\"{__ORIG_WD__}/../data_collectors/\")\n",
    "from covid19_genome import Covid19Genome\n",
    "\n",
    "os.chdir(__ORIG_WD__)\n"
   ]
  },
  {
   "cell_type": "code",
   "execution_count": null,
   "metadata": {},
   "outputs": [],
   "source": [
    "def build_dataset():\n",
    "    # extract accession paths\n",
    "    accessions_paths = glob.glob(\"../genome_builder/data/new-reads-4x/*.fq\")\n",
    "    accessions_paths = [os.path.abspath(accessions_path) for accessions_path in accessions_paths]\n",
    "\n",
    "\n",
    "    # extract lineages\n",
    "    covid19_genome = Covid19Genome()\n",
    "    lineages = covid19_genome.getLocalLineages(1024)\n",
    "    lineages.sort()\n",
    "\n",
    "    # build accession lineage map\n",
    "    accession_lineage_map = {}\n",
    "    for lineage in lineages:\n",
    "        for accession in covid19_genome.getLocalAccessions(lineage):\n",
    "            accession_lineage_map[accession] = lineage\n",
    "\n",
    "    # build lineage accession path map\n",
    "    lineage_accession_path_map = {}\n",
    "    for accession_path in accessions_paths:\n",
    "        accession = accession_path.split('/')[-1].split('.')[0].split('-')[0]\n",
    "        lineage = accession_lineage_map[accession]\n",
    "        if not lineage in lineage_accession_path_map:\n",
    "            lineage_accession_path_map[lineage] = []\n",
    "        lineage_accession_path_map[lineage].append(accession_path)\n",
    "\n",
    "    return [(lineage, accession_paths) for lineage, accession_paths in lineage_accession_path_map.items()]"
   ]
  },
  {
   "cell_type": "code",
   "execution_count": null,
   "metadata": {},
   "outputs": [],
   "source": [
    "# model_name = f\"covid19-art-1024examples\"\n",
    "# try:\n",
    "#     model = load_model(model_name)\n",
    "# except Exception:\n",
    "#     dataset = build_dataset()\n",
    "\n",
    "#     portions = {\n",
    "#         DatasetName.trainset.name: 0.8,\n",
    "#         DatasetName.validset.name: 0.1,\n",
    "#         DatasetName.testset.name: 0.1\n",
    "#     }\n",
    "\n",
    "#     model = Model(\"covid19-art-1024examples\")\n",
    "#     model.create_datasets(dataset, portions)"
   ]
  },
  {
   "cell_type": "code",
   "execution_count": null,
   "metadata": {},
   "outputs": [],
   "source": [
    "try:\n",
    "    model = load_model(\"covid19-new-1024examples\")\n",
    "except Exception:\n",
    "    covid19_genome = Covid19Genome()\n",
    "    lineages = covid19_genome.getLocalLineages(1024)\n",
    "    lineages.sort()\n",
    "    dataset = []\n",
    "    def get_dataset(lower, upper):\n",
    "        for lineage in lineages[lower:upper]:\n",
    "            dataset.append((lineage, covid19_genome.getLocalAccessionsPath(lineage)))\n",
    "        return dataset\n",
    "\n",
    "    portions = {\n",
    "        DatasetName.trainset.name: 0.8,\n",
    "        DatasetName.validset.name: 0.1,\n",
    "        DatasetName.testset.name: 0.1\n",
    "    }\n",
    "\n",
    "    dataset = get_dataset(0, 200)\n",
    "    model = Model(\"covid19-new-1024examples\")\n",
    "    model.create_datasets(model.get_ds_types()[0], dataset, portions)"
   ]
  },
  {
   "cell_type": "code",
   "execution_count": null,
   "metadata": {},
   "outputs": [],
   "source": [
    "model.get_ml_model_structures()\n",
    "print(model.get_ml_model_structure_hps(model.get_ml_model_structures()[0]))\n",
    "print(\"~~~~~~~~~~~~~~~~~~~~~~~~~~~~~\")\n",
    "print(model.get_ds_props())"
   ]
  },
  {
   "cell_type": "code",
   "execution_count": null,
   "metadata": {},
   "outputs": [],
   "source": [
    "coverage = 4\n",
    "ml_model_depth = 1"
   ]
  },
  {
   "cell_type": "code",
   "execution_count": null,
   "metadata": {},
   "outputs": [],
   "source": [
    "def get_model_name(ml_model_depth, coverage):\n",
    "    return f\"vit.{ml_model_depth}.{coverage}x\"\n",
    "\n",
    "ml_model_name = get_model_name(ml_model_depth, coverage)"
   ]
  },
  {
   "cell_type": "code",
   "execution_count": null,
   "metadata": {},
   "outputs": [],
   "source": [
    "print(model.get_ml_model_structure_hps(model.get_ml_model_structures()[0]))"
   ]
  },
  {
   "cell_type": "code",
   "execution_count": null,
   "metadata": {},
   "outputs": [],
   "source": [
    "newly_added = True\n",
    "try:\n",
    "    model.add_ml_model(ml_model_name, hps={\n",
    "        \"structure\": model.get_ml_model_structures()[0],\n",
    "        \"d_model\": model.get_ds_props()[\"frag_len\"],\n",
    "        \"d_val\": 128,\n",
    "        \"d_key\": 128,\n",
    "        \"heads\": 8,\n",
    "        \"d_ff\": 1024+256,\n",
    "        \"labels\":  len(model.get_labels()),\n",
    "        \"activation\": \"relu\",\n",
    "        \"optimizer\": {\n",
    "            \"name\": \"AdamW\",\n",
    "            \"params\": {\n",
    "                \"learning_rate\": 0.001,\n",
    "            },\n",
    "        },\n",
    "        \"encoder_repeats\": ml_model_depth,\n",
    "        \"regularizer\": {\n",
    "            \"name\": \"l2\",\n",
    "            \"params\": {\n",
    "                \"l2\": 0.0001\n",
    "            }\n",
    "        },\n",
    "        \"dropout\": 0.2,\n",
    "    })\n",
    "except:\n",
    "    newly_added = False\n",
    "    print(\"Model already exists\")"
   ]
  },
  {
   "cell_type": "code",
   "execution_count": null,
   "metadata": {},
   "outputs": [],
   "source": [
    "models = model.list_ml_models()\n",
    "print(models)"
   ]
  },
  {
   "cell_type": "code",
   "execution_count": null,
   "metadata": {},
   "outputs": [],
   "source": [
    "if newly_added:\n",
    "    assert False, \"Please consider doing transfer learning\"\n",
    "# model.transfer(get_model_name(ml_model_depth - 1, coverage), ml_model_name, False)"
   ]
  },
  {
   "cell_type": "code",
   "execution_count": null,
   "metadata": {},
   "outputs": [],
   "source": [
    "# model.change_ml_hps(ml_model_name, {\n",
    "# #     \"regularizer\": {\n",
    "# #         \"name\": \"l2\",\n",
    "# #         \"params\": {\n",
    "# #             \"l2\": 0.00005,\n",
    "# #         },\n",
    "# #     },\n",
    "# #     \"optimizer\": {\n",
    "# #         \"name\": \"AdamW\",\n",
    "# #         \"params\": {\n",
    "# #             \"learning_rate\": 0.00001,\n",
    "# #         },\n",
    "# #     },\n",
    "# })"
   ]
  },
  {
   "cell_type": "code",
   "execution_count": 13,
   "metadata": {},
   "outputs": [
    {
     "name": "stdout",
     "output_type": "stream",
     "text": [
      "319/534 [================>.............] - ETA: 1:36 - loss: 0.7207 - accuracy: 0.8147 - auc: 0.9931"
     ]
    }
   ],
   "source": [
    "# model.set_coverage(coverage)\n",
    "# model.set_substitution_rate(0.025)\n",
    "# model.set_insertion_rate(0.015)\n",
    "# model.set_deletion_rate(0.015)\n",
    "model.set_ds_batch_size(256)\n",
    "model.train(ml_model_name, epochs=1000)"
   ]
  },
  {
   "cell_type": "code",
   "execution_count": null,
   "metadata": {},
   "outputs": [],
   "source": [
    "results = model.predict_reads(ml_model_name, \"../genome_builder/data/new-reads-4x/\")"
   ]
  },
  {
   "cell_type": "code",
   "execution_count": null,
   "metadata": {},
   "outputs": [],
   "source": [
    "covid19_genome = Covid19Genome()\n",
    "lineages = covid19_genome.getLocalLineages(1024)\n",
    "lineages.sort()"
   ]
  },
  {
   "cell_type": "code",
   "execution_count": null,
   "metadata": {},
   "outputs": [],
   "source": [
    "accession_to_lineage_map = {}\n",
    "for lineage in lineages:\n",
    "    accessions = covid19_genome.getLocalAccessions(lineage)\n",
    "    for accession in accessions:\n",
    "        accession_to_lineage_map.update({accession.split(\"/\")[-1].split(\".\")[0]: lineage})"
   ]
  },
  {
   "cell_type": "code",
   "execution_count": null,
   "metadata": {},
   "outputs": [],
   "source": [
    "import tensorflow as tf\n",
    "\n",
    "correct = 0\n",
    "incorrect = 0\n",
    "labels = model.datasets[\"trainset\"].get_labels()\n",
    "for result in results:\n",
    "    # print(tf.math.top_k(results[result],  k = 1))\n",
    "    result_index = tf.math.top_k(results[result],  k = 1).indices.numpy()[0][0]\n",
    "    print(labels[result_index])\n",
    "    reads_accession = result.split(\"/\")[-1].split(\".\")[0].split(\"-\")[0]\n",
    "    if reads_accession not in accession_to_lineage_map:\n",
    "        continue\n",
    "    print(f\"real result: {accession_to_lineage_map[reads_accession]}\")\n",
    "    \n",
    "    if labels[result_index] == accession_to_lineage_map[reads_accession]:\n",
    "        correct += 1\n",
    "    else:\n",
    "        incorrect += 1\n"
   ]
  },
  {
   "cell_type": "code",
   "execution_count": null,
   "metadata": {},
   "outputs": [],
   "source": [
    "print(f\"accurcay = {correct / (correct + incorrect)}\")"
   ]
  },
  {
   "cell_type": "code",
   "execution_count": null,
   "metadata": {},
   "outputs": [],
   "source": [
    "incorrect"
   ]
  },
  {
   "cell_type": "code",
   "execution_count": null,
   "metadata": {},
   "outputs": [],
   "source": [
    "ml_model_name"
   ]
  },
  {
   "cell_type": "code",
   "execution_count": null,
   "metadata": {},
   "outputs": [],
   "source": []
  }
 ],
 "metadata": {
  "kernelspec": {
   "display_name": "covit",
   "language": "python",
   "name": "python3"
  },
  "language_info": {
   "codemirror_mode": {
    "name": "ipython",
    "version": 3
   },
   "file_extension": ".py",
   "mimetype": "text/x-python",
   "name": "python",
   "nbconvert_exporter": "python",
   "pygments_lexer": "ipython3",
   "version": "3.9.17"
  },
  "orig_nbformat": 4
 },
 "nbformat": 4,
 "nbformat_minor": 2
}
