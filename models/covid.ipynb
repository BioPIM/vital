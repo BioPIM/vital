{
 "cells": [
  {
   "cell_type": "code",
   "execution_count": null,
   "metadata": {},
   "outputs": [],
   "source": [
    "import os\n",
    "# os.environ[\"CUDA_VISIBLE_DEVICES\"] = \"-1\" # Uncomment to disable GPU\n",
    "from model import Model, DatasetName, load_model, remove_model\n",
    "import numpy as np\n",
    "\n",
    "__ORIG_WD__ = os.getcwd()\n",
    "\n",
    "os.chdir(f\"{__ORIG_WD__}/../data_collectors/\")\n",
    "from covid19_genome import Covid19Genome\n",
    "\n",
    "\n",
    "os.chdir(__ORIG_WD__)\n",
    "\n"
   ]
  },
  {
   "cell_type": "code",
   "execution_count": null,
   "metadata": {},
   "outputs": [],
   "source": [
    "covid19_genome = Covid19Genome()"
   ]
  },
  {
   "cell_type": "code",
   "execution_count": null,
   "metadata": {},
   "outputs": [],
   "source": [
    "lineages = covid19_genome.getLocalLineages(0)\n",
    "lineages.sort()\n",
    "dataset = []\n",
    "def get_dataset(lower, upper):\n",
    "    for lineage in lineages[lower:upper]:\n",
    "        dataset.append((lineage, covid19_genome.getLocalAccessionsPath(lineage)))\n",
    "    return dataset\n",
    "\n",
    "portions = {\n",
    "    DatasetName.trainset.name: 0.8,\n",
    "    DatasetName.validset.name: 0.1,\n",
    "    DatasetName.testset.name: 0.1\n",
    "}\n",
    "\n",
    "dataset = get_dataset(0, 200)\n",
    "\n",
    "try:\n",
    "    model = Model(\"covid19-200\")\n",
    "    model.create_datasets(dataset, portions, minhash_dataset=True)\n",
    "except Exception:\n",
    "    model = load_model(\"covid19-200\")\n"
   ]
  },
  {
   "cell_type": "code",
   "execution_count": null,
   "metadata": {},
   "outputs": [],
   "source": [
    "# try:\n",
    "model.add_ml_model(\"vit\", \"vit.1.200.01.adamw.coverage1\", hps={\n",
    "    \"optimizer\": {\n",
    "        \"name\": \"AdamW\",\n",
    "        \"params\": {\n",
    "            \"learning_rate\": 0.001,\n",
    "        },\n",
    "    },\n",
    "    \"encoder_repeats\": 1,\n",
    "    \"batch_size\": 1024,\n",
    "    \"regularizer\": {\n",
    "        \"name\": \"l2\",\n",
    "        \"params\": {\n",
    "            \"l2\": 0.08\n",
    "        }\n",
    "    },\n",
    "    \"d_key\": 64,\n",
    "    \"d_value\": 64,\n",
    "    \"dropout\": 0.3,\n",
    "})\n",
    "# except Exception:\n",
    "    # print(\"Model already exists\")"
   ]
  },
  {
   "cell_type": "code",
   "execution_count": null,
   "metadata": {},
   "outputs": [],
   "source": [
    "model.list_ml_models()\n",
    "# model.remove_ml_model(model.list_ml_models()[0])"
   ]
  },
  {
   "cell_type": "code",
   "execution_count": null,
   "metadata": {},
   "outputs": [],
   "source": [
    "# model.transfer('vit.1.50.001.adamw.coverage05','vit.1.50.004.adamw.coverage1')"
   ]
  },
  {
   "cell_type": "code",
   "execution_count": null,
   "metadata": {},
   "outputs": [],
   "source": [
    "model.change_ml_hps(\n",
    "    \"vit.2.50.004.adamw.coverage05\",\n",
    "    {\n",
    "        # \"optimizer\": {\n",
    "        #     \"name\": \"AdamW\",\n",
    "        #     \"params\": {\n",
    "        #         \"learning_rate\": 0.0004,\n",
    "        #     },\n",
    "        # },\n",
    "        \"regularizer\": {\n",
    "            \"name\": \"l2\",\n",
    "            \"params\": {\n",
    "                \"l2\": 0.02\n",
    "            },\n",
    "        },\n",
    "    }\n",
    ")"
   ]
  },
  {
   "cell_type": "code",
   "execution_count": null,
   "metadata": {},
   "outputs": [],
   "source": [
    "model.set_coverage(1)\n",
    "model.train(\"vit.1.200.01.adamw.coverage1\", epochs=1000)"
   ]
  },
  {
   "cell_type": "code",
   "execution_count": null,
   "metadata": {},
   "outputs": [],
   "source": []
  },
  {
   "cell_type": "code",
   "execution_count": null,
   "metadata": {},
   "outputs": [],
   "source": [
    "# model.add_examples(get_dataset(200, 500), portions)"
   ]
  },
  {
   "cell_type": "code",
   "execution_count": null,
   "metadata": {},
   "outputs": [],
   "source": []
  }
 ],
 "metadata": {
  "kernelspec": {
   "display_name": "covit",
   "language": "python",
   "name": "python3"
  },
  "language_info": {
   "codemirror_mode": {
    "name": "ipython",
    "version": 3
   },
   "file_extension": ".py",
   "mimetype": "text/x-python",
   "name": "python",
   "nbconvert_exporter": "python",
   "pygments_lexer": "ipython3",
   "version": "3.9.16"
  },
  "orig_nbformat": 4
 },
 "nbformat": 4,
 "nbformat_minor": 2
}
