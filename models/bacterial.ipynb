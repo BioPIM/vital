{
 "cells": [
  {
   "cell_type": "code",
   "execution_count": null,
   "metadata": {},
   "outputs": [],
   "source": [
    "import os\n",
    "# os.environ[\"CUDA_VISIBLE_DEVICES\"] = \"-1\" # Uncomment to disable GPU\n",
    "from model import Model, DatasetName, load_model\n",
    "import numpy as np\n",
    "\n",
    "__ORIG_WD__ = os.getcwd()\n",
    "\n",
    "os.chdir(f\"{__ORIG_WD__}/../data_collectors/\")\n",
    "from ncbi_genome import NCBIGenome\n",
    "\n",
    "\n",
    "os.chdir(__ORIG_WD__)\n",
    "\n"
   ]
  },
  {
   "cell_type": "code",
   "execution_count": null,
   "metadata": {},
   "outputs": [],
   "source": [
    "ncbi_genome = NCBIGenome()\n",
    "taxa = ncbi_genome.getLocalTaxa()\n",
    "\n",
    "dataset = []\n",
    "for taxon in taxa:\n",
    "    dataset.append((taxon, ncbi_genome.getLocalAccessions(taxon)))\n",
    "\n",
    "portions = {\n",
    "    DatasetName.trainset.name: 0.8,\n",
    "    DatasetName.validset.name: 0.1,\n",
    "    DatasetName.testset.name: 0.1\n",
    "}\n",
    "\n",
    "try:\n",
    "    model = Model(\"ncbi_bacteria\")\n",
    "    model.create_datasets(dataset, portions)\n",
    "except Exception:\n",
    "    model = load_model(\"ncbi_bacteria\")\n"
   ]
  },
  {
   "cell_type": "code",
   "execution_count": null,
   "metadata": {},
   "outputs": [],
   "source": [
    "try:\n",
    "    model.add_ml_model(\"vit\", \"vit.3\", hps={\n",
    "        \"encoder_repeats\": 3,\n",
    "        \"batch_size\": 256,\n",
    "        \"regularizer\": {\n",
    "            \"name\": \"l2\",\n",
    "            \"params\": {\n",
    "                \"l2\": 0.001\n",
    "            }\n",
    "        }\n",
    "    })\n",
    "except Exception:\n",
    "    print(\"Model already exists\")"
   ]
  },
  {
   "cell_type": "code",
   "execution_count": null,
   "metadata": {},
   "outputs": [],
   "source": [
    "# model.transfer(transfer_to_name=\"vit.3\", transfer_from_name=\"vit.2\")"
   ]
  },
  {
   "cell_type": "code",
   "execution_count": null,
   "metadata": {},
   "outputs": [],
   "source": [
    "model.change_hps(\"vit.3\", {\n",
    "    \"regularizer\": {\n",
    "        \"name\": \"l2\",\n",
    "        \"params\": {\n",
    "            \"l2\": 0.00001\n",
    "        }\n",
    "    }\n",
    "})\n",
    "model.train(\"vit.3\", epochs=500)"
   ]
  },
  {
   "cell_type": "code",
   "execution_count": null,
   "metadata": {},
   "outputs": [],
   "source": [
    "# load results\n",
    "import json\n",
    "# check if file exists\n",
    "if os.path.isfile(\"results.json\"):\n",
    "    with open(\"results.json\", \"r\") as f:\n",
    "        results = json.load(f)\n",
    "else:\n",
    "    results = {}\n",
    "\n",
    "# transform results into floats\n",
    "for key in results:\n",
    "    results[key] = [float(x) for x in results[key]]\n",
    "\n",
    "# transfor keys into floats\n",
    "results = {float(key): results[key] for key in results}\n",
    "\n",
    "\n",
    "number_of_experiments = 100\n",
    "for coverage in [0.01, 0.02, 0.03, 0.04, 0.05, 0.08, 0.1, 1, 5, 30]:\n",
    "    if coverage in results:\n",
    "        continue\n",
    "    model.set_coverage(coverage)\n",
    "    results[coverage] = []\n",
    "    for i in range(number_of_experiments):\n",
    "        print(f\"======> Experiment {i+1}/{number_of_experiments} for coverage {coverage} <======\")\n",
    "        results[coverage].append((model.evaluate(\"vit.2\")[1] * 100))\n",
    "\n",
    "# write results to json file\n",
    "with open(\"results.json\", \"w\") as f:\n",
    "    json.dump(results, f)\n"
   ]
  },
  {
   "cell_type": "code",
   "execution_count": null,
   "metadata": {},
   "outputs": [],
   "source": [
    "import matplotlib.pyplot as plt\n",
    "import seaborn as sns\n",
    "import numpy as np\n",
    "\n",
    "for coverage, cov_results in results.items():\n",
    "    sns.set_theme(style=\"whitegrid\")\n",
    "    sns.set(rc={'figure.figsize':(11.7,8.27)})\n",
    "    sns.set(font_scale=1.5)\n",
    "\n",
    "    sns.histplot(cov_results, kde=True, stat=\"density\", linewidth=1.2, edgecolor=\"black\", color=\"g\")\n",
    "\n",
    "    mean = np.mean(cov_results)\n",
    "    std_dev = np.std(cov_results)\n",
    "\n",
    "    # Add a vertical line for the mean\n",
    "    plt.axvline(mean, color='r', linestyle='--', label=f\"mean = {mean.round(3)}\")\n",
    "\n",
    "    # Add vertical lines for one std dev away from the mean\n",
    "    plt.axvline(mean - std_dev, color='b', linestyle='--', label=f\"std   = {std_dev.round(3)}\")\n",
    "    plt.axvline(mean + std_dev, color='b', linestyle='--')\n",
    "\n",
    "    plt.xlabel(\"Accuracy\")\n",
    "    plt.ylabel(\"Density\")\n",
    "    plt.title(f\"Accuracy Distribution of VIT Model with coverage of {coverage}x\")\n",
    "    plt.legend()\n",
    "\n",
    "    plt.savefig(f\"vit.2-{coverage}x.png\")\n",
    "    #clear plt\n",
    "    plt.clf()\n"
   ]
  },
  {
   "cell_type": "code",
   "execution_count": null,
   "metadata": {},
   "outputs": [],
   "source": [
    "# plt a graph of mean accuracy vs. coverage only for coverage <= 0.1\n",
    "#scale up the graph, and make the lines andd font bigger and easier to see\n",
    "sns.set_theme(style=\"whitegrid\")\n",
    "sns.set(rc={'figure.figsize':(11.7,8.27)})\n",
    "sns.set(font_scale=1.5)\n",
    "\n",
    "mean_accuracies = []\n",
    "for coverage, cov_results in results.items():\n",
    "    if coverage > 0.1:\n",
    "        continue\n",
    "    mean_accuracies.append(np.mean(cov_results))\n",
    "\n",
    "sns.lineplot(x=[0.01, 0.02, 0.03, 0.04, 0.05, 0.08, 0.1], y=mean_accuracies, marker=\"o\", color=\"g\", linewidth=4, markersize=10)\n",
    "plt.xlabel(\"Coverage\")\n",
    "plt.ylabel(\"Mean Accuracy\")\n",
    "plt.title(f\"Mean Accuracy vs. Coverage of VIT Model\")\n",
    "plt.savefig(f\"vit.2-mean-accuracy-vs-coverage.png\")\n",
    "#clear plt\n",
    "plt.clf()\n"
   ]
  },
  {
   "cell_type": "code",
   "execution_count": 15,
   "metadata": {},
   "outputs": [
    {
     "data": {
      "text/plain": [
       "<Figure size 1170x827 with 0 Axes>"
      ]
     },
     "metadata": {},
     "output_type": "display_data"
    }
   ],
   "source": [
    "import numpy as np\n",
    "import seaborn as sns\n",
    "import matplotlib.pyplot as plt\n",
    "# generate random vector of length 20, where the vector sums to 1\n",
    "vector = np.random.dirichlet(np.ones(20),size=1)[0]\n",
    "vector /= 5\n",
    "vector[4] += 0.8\n",
    "\n",
    "\n",
    "# draw the vector as a chart\n",
    "sns.set_theme(style=\"whitegrid\")\n",
    "sns.set(rc={'figure.figsize':(11.7,8.27)})\n",
    "sns.set(font_scale=1.5)\n",
    "\n",
    "\n",
    "sns.barplot(x=[i for i in range(20)], y=vector, color=\"g\")\n",
    "\n",
    "# scale y axis to have a max of 1 in the plot\n",
    "plt.ylim(0, 1)\n",
    "\n",
    "plt.xlabel(\"Lineages\")\n",
    "plt.ylabel(\"probability\")\n",
    "plt.title(f\"Network output\")\n",
    "plt.savefig(f\"random-vector2.png\")\n",
    "#clear plt\n",
    "plt.clf()"
   ]
  },
  {
   "cell_type": "code",
   "execution_count": 9,
   "metadata": {},
   "outputs": [
    {
     "data": {
      "text/plain": [
       "<Figure size 1170x827 with 0 Axes>"
      ]
     },
     "metadata": {},
     "output_type": "display_data"
    }
   ],
   "source": []
  },
  {
   "cell_type": "code",
   "execution_count": null,
   "metadata": {},
   "outputs": [],
   "source": []
  }
 ],
 "metadata": {
  "kernelspec": {
   "display_name": "covit",
   "language": "python",
   "name": "python3"
  },
  "language_info": {
   "codemirror_mode": {
    "name": "ipython",
    "version": 3
   },
   "file_extension": ".py",
   "mimetype": "text/x-python",
   "name": "python",
   "nbconvert_exporter": "python",
   "pygments_lexer": "ipython3",
   "version": "3.9.16"
  },
  "orig_nbformat": 4
 },
 "nbformat": 4,
 "nbformat_minor": 2
}
