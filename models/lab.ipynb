{
 "cells": [
  {
   "cell_type": "code",
   "execution_count": 1,
   "metadata": {},
   "outputs": [
    {
     "name": "stderr",
     "output_type": "stream",
     "text": [
      "2023-08-19 11:45:50.916672: I tensorflow/core/util/port.cc:110] oneDNN custom operations are on. You may see slightly different numerical results due to floating-point round-off errors from different computation orders. To turn them off, set the environment variable `TF_ENABLE_ONEDNN_OPTS=0`.\n",
      "2023-08-19 11:45:50.942814: I tensorflow/core/platform/cpu_feature_guard.cc:182] This TensorFlow binary is optimized to use available CPU instructions in performance-critical operations.\n",
      "To enable the following instructions: AVX2 AVX_VNNI FMA, in other operations, rebuild TensorFlow with the appropriate compiler flags.\n",
      "2023-08-19 11:45:51.392084: W tensorflow/compiler/tf2tensorrt/utils/py_utils.cc:38] TF-TRT Warning: Could not find TensorRT\n"
     ]
    }
   ],
   "source": [
    "import tensorflow as tf\n",
    "import os\n",
    "import glob\n",
    "\n",
    "__ORIG_WD__ = os.getcwd()\n",
    "\n",
    "os.chdir(\"../utils\")\n",
    "\n",
    "from utils import print_progress_bar\n",
    "kmer_len = 16"
   ]
  },
  {
   "cell_type": "code",
   "execution_count": 2,
   "metadata": {},
   "outputs": [],
   "source": [
    "def get_reads(fastq_file):\n",
    "    \"\"\"Reads a fastq file and returns a list of reads.\"\"\"\n",
    "    reads = []\n",
    "    with open(fastq_file) as f:\n",
    "        while True:\n",
    "            f.readline() # ignore the first line\n",
    "            seq = f.readline().strip()\n",
    "            f.readline() # ignore the third line\n",
    "            qual = f.readline().strip()\n",
    "            if len(seq) == 0:\n",
    "                break\n",
    "            reads.append(seq)\n",
    "    return reads"
   ]
  },
  {
   "cell_type": "code",
   "execution_count": 3,
   "metadata": {},
   "outputs": [
    {
     "name": "stderr",
     "output_type": "stream",
     "text": [
      "2023-08-19 11:45:51.927727: I tensorflow/compiler/xla/stream_executor/cuda/cuda_gpu_executor.cc:996] successful NUMA node read from SysFS had negative value (-1), but there must be at least one NUMA node, so returning NUMA node zero. See more at https://github.com/torvalds/linux/blob/v6.0/Documentation/ABI/testing/sysfs-bus-pci#L344-L355\n",
      "2023-08-19 11:45:51.942811: I tensorflow/compiler/xla/stream_executor/cuda/cuda_gpu_executor.cc:996] successful NUMA node read from SysFS had negative value (-1), but there must be at least one NUMA node, so returning NUMA node zero. See more at https://github.com/torvalds/linux/blob/v6.0/Documentation/ABI/testing/sysfs-bus-pci#L344-L355\n",
      "2023-08-19 11:45:51.942935: I tensorflow/compiler/xla/stream_executor/cuda/cuda_gpu_executor.cc:996] successful NUMA node read from SysFS had negative value (-1), but there must be at least one NUMA node, so returning NUMA node zero. See more at https://github.com/torvalds/linux/blob/v6.0/Documentation/ABI/testing/sysfs-bus-pci#L344-L355\n",
      "2023-08-19 11:45:51.943703: I tensorflow/compiler/xla/stream_executor/cuda/cuda_gpu_executor.cc:996] successful NUMA node read from SysFS had negative value (-1), but there must be at least one NUMA node, so returning NUMA node zero. See more at https://github.com/torvalds/linux/blob/v6.0/Documentation/ABI/testing/sysfs-bus-pci#L344-L355\n",
      "2023-08-19 11:45:51.943791: I tensorflow/compiler/xla/stream_executor/cuda/cuda_gpu_executor.cc:996] successful NUMA node read from SysFS had negative value (-1), but there must be at least one NUMA node, so returning NUMA node zero. See more at https://github.com/torvalds/linux/blob/v6.0/Documentation/ABI/testing/sysfs-bus-pci#L344-L355\n",
      "2023-08-19 11:45:51.943839: I tensorflow/compiler/xla/stream_executor/cuda/cuda_gpu_executor.cc:996] successful NUMA node read from SysFS had negative value (-1), but there must be at least one NUMA node, so returning NUMA node zero. See more at https://github.com/torvalds/linux/blob/v6.0/Documentation/ABI/testing/sysfs-bus-pci#L344-L355\n",
      "2023-08-19 11:45:52.279327: I tensorflow/compiler/xla/stream_executor/cuda/cuda_gpu_executor.cc:996] successful NUMA node read from SysFS had negative value (-1), but there must be at least one NUMA node, so returning NUMA node zero. See more at https://github.com/torvalds/linux/blob/v6.0/Documentation/ABI/testing/sysfs-bus-pci#L344-L355\n",
      "2023-08-19 11:45:52.279438: I tensorflow/compiler/xla/stream_executor/cuda/cuda_gpu_executor.cc:996] successful NUMA node read from SysFS had negative value (-1), but there must be at least one NUMA node, so returning NUMA node zero. See more at https://github.com/torvalds/linux/blob/v6.0/Documentation/ABI/testing/sysfs-bus-pci#L344-L355\n",
      "2023-08-19 11:45:52.279492: I tensorflow/compiler/xla/stream_executor/cuda/cuda_gpu_executor.cc:996] successful NUMA node read from SysFS had negative value (-1), but there must be at least one NUMA node, so returning NUMA node zero. See more at https://github.com/torvalds/linux/blob/v6.0/Documentation/ABI/testing/sysfs-bus-pci#L344-L355\n",
      "2023-08-19 11:45:52.279544: I tensorflow/core/common_runtime/gpu/gpu_device.cc:1635] Created device /job:localhost/replica:0/task:0/device:GPU:0 with 22295 MB memory:  -> device: 0, name: NVIDIA RTX A5000, pci bus id: 0000:01:00.0, compute capability: 8.6\n"
     ]
    }
   ],
   "source": [
    "key = tf.random.stateless_uniform([1], minval=0, maxval=4**kmer_len, dtype=tf.int64, seed=[0,0]).numpy()[0]\n",
    "\n",
    "base_to_int = {'A': 1, 'C': 2, 'G': 3, 'T': 4}\n",
    "\n",
    "def get_signed_frag_value(frag, kmer_len):\n",
    "    kmer = 0\n",
    "    for i in range(kmer_len):\n",
    "        kmer += base_to_int.get(frag[i], 0) * 5**i\n",
    "\n",
    "    # perform bitwise XOR with key\n",
    "    kmer ^= key\n",
    "    return kmer\n",
    "\n",
    "    \n",
    "def get_frags(fastq_file, kmer_len, frag_len, num_frags):\n",
    "    \n",
    "    reads = get_reads(fastq_file)\n",
    "    frags = []\n",
    "    for read_idx, read in enumerate(reads):\n",
    "        for frag_idx in range(len(read) - frag_len + 1):\n",
    "            frags.append(((read_idx, frag_idx), get_signed_frag_value(read[frag_idx:frag_idx + frag_len], kmer_len)))\n",
    "    # sort and filter out same values\n",
    "    frags.sort(key=lambda x: x[1], reverse=True)\n",
    "    frags = frags[0:0] + [frags[i] for i in range(1, len(frags)) if frags[i][1] != frags[i-1][1]]\n",
    "    return [reads[read_idx][frag_idx:frag_idx + frag_len] for (read_idx, frag_idx), _ in frags[:num_frags]]\n"
   ]
  },
  {
   "cell_type": "code",
   "execution_count": 4,
   "metadata": {},
   "outputs": [],
   "source": [
    "frags = get_frags(f\"../genome_builder/data/reads-8x/BS001393.fq\", 16, 86, 400)"
   ]
  },
  {
   "cell_type": "code",
   "execution_count": 5,
   "metadata": {},
   "outputs": [
    {
     "data": {
      "text/plain": [
       "<tf.Tensor: shape=(400, 86), dtype=string, numpy=\n",
       "array([[b'G', b'T', b'T', ..., b'A', b'T', b'A'],\n",
       "       [b'G', b'T', b'T', ..., b'C', b'T', b'G'],\n",
       "       [b'A', b'C', b'C', ..., b'T', b'A', b'T'],\n",
       "       ...,\n",
       "       [b'A', b'G', b'T', ..., b'A', b'A', b'T'],\n",
       "       [b'A', b'G', b'C', ..., b'A', b'T', b'T'],\n",
       "       [b'T', b'C', b'T', ..., b'T', b'T', b'C']], dtype=object)>"
      ]
     },
     "execution_count": 5,
     "metadata": {},
     "output_type": "execute_result"
    }
   ],
   "source": [
    "tf.strings.bytes_split(tf.constant(frags)).to_tensor()"
   ]
  },
  {
   "cell_type": "code",
   "execution_count": 6,
   "metadata": {},
   "outputs": [],
   "source": [
    "def frags_generator(dirpath: str, kmer_len, frag_len, num_frags) -> tf.Tensor:\n",
    "    # extract fastq files from dirpath\n",
    "    reads_file_pathes = glob.glob(os.path.join(dirpath, '*.fq')) + glob.glob(os.path.join(dirpath, '*.fastq'))\n",
    "    for reads_file_path in reads_file_pathes:\n",
    "        frags = get_frags(reads_file_path, kmer_len, frag_len, num_frags)\n",
    "        print(frags)\n",
    "        yield frags"
   ]
  },
  {
   "cell_type": "code",
   "execution_count": 7,
   "metadata": {},
   "outputs": [],
   "source": [
    "# # print progress bar\n",
    "\n",
    "# cnt = 0\n",
    "# everything = len(glob.glob(\"../genome_builder/data/reads-0.5x/*.fq\"))\n",
    "# for frags in frags_generator(\"../genome_builder/data/reads-0.5x/\", 16, 86, 400):\n",
    "#     print_progress_bar(cnt, everything)\n",
    "#     cnt += 1"
   ]
  },
  {
   "cell_type": "code",
   "execution_count": 8,
   "metadata": {},
   "outputs": [],
   "source": [
    "dataset = tf.data.Dataset.from_generator(\n",
    "    lambda: frags_generator(\"../genome_builder/data/reads-0.5x/\", 16, 86, 400),\n",
    "    output_signature=(\n",
    "        tf.TensorSpec(shape=(0))\n",
    "    )\n",
    ")"
   ]
  },
  {
   "cell_type": "code",
   "execution_count": 9,
   "metadata": {},
   "outputs": [
    {
     "name": "stdout",
     "output_type": "stream",
     "text": [
      "[]\n",
      "tf.Tensor([], shape=(0,), dtype=float32)\n",
      "[]\n"
     ]
    },
    {
     "name": "stderr",
     "output_type": "stream",
     "text": [
      "2023-08-19 11:45:52.952333: I tensorflow/core/common_runtime/executor.cc:1197] [/device:CPU:0] (DEBUG INFO) Executor start aborting (this does not indicate an error and you can ignore this message): INVALID_ARGUMENT: You must feed a value for placeholder tensor 'Placeholder/_0' with dtype int32\n",
      "\t [[{{node Placeholder/_0}}]]\n"
     ]
    }
   ],
   "source": [
    "for elem in dataset:\n",
    "    print(elem)\n",
    "    break"
   ]
  },
  {
   "cell_type": "code",
   "execution_count": 12,
   "metadata": {},
   "outputs": [
    {
     "name": "stdout",
     "output_type": "stream",
     "text": [
      "2x 2\n",
      "1x 2\n",
      "0x 2\n",
      "2x 3\n",
      "5x 1\n",
      "5x 3\n",
      "5x 4\n",
      "5x 2\n",
      "1x 1\n",
      "0x 3\n"
     ]
    }
   ],
   "source": [
    "import os\n",
    "import glob\n",
    "\n",
    "# change names of models:\n",
    "for dirpath in glob.glob(f\"data/covid19-1024examples/ml_models/*\"):\n",
    "    _, encoder_repeats, coverage =dirpath.split(\"/\")[-1].split(\"-\")[0].split(\".\")\n",
    "    coverage = coverage[:-1]\n",
    "    second_dirpath = glob.glob(f\"{dirpath}/*\")[0]\n",
    "    print(coverage, encoder_repeats)\n",
    "    \n",
    "    # if coverage = 5:\n",
    "    # # change names of second directory\n",
    "    # os.system(f\"mv {second_dirpath} {dirpath}/vit.{encoder_repeats}.{coverage}x\")\n",
    "\n",
    "    # # change names of first directory\n",
    "    # os.system(f\"mv {dirpath} {'/'.join(dirpath.split('/')[:-1])}/vit.{encoder_repeats}.{coverage}x-vit\")\n",
    "    \n",
    "    # new_dirpath_name = "
   ]
  },
  {
   "cell_type": "code",
   "execution_count": null,
   "metadata": {},
   "outputs": [],
   "source": [
    "import tensorflow as tf\n",
    "\n",
    "fastq_data = tf.constant(\"\"\"@ENA|BS001393|BS001393.1-99\n",
    "CCAAATATTTAATTGGTGGTGTTTTG\n",
    "+\n",
    "C1C1GGGGGGGGGGJJJJJJJJJJJGJ1JJJJJGJJJGGCGJJJ(GCGGCJJJJCGJJGGGGGJGGGGGGGJGCGGGGGGGGGGGG8GGGCGGGGGCCGGJCGCGGGCGGGCCCGGGGGCGGGCGGGGGGGGCGGGCGGGGG11GGGGGC\n",
    "@ENA|BS001393|BS001393.1-98\n",
    "AAAGTGATGTCAATGTCACTAACAAG\n",
    "+\n",
    "C=CGGG=GGGGGCJCJJGJGJCJJJJGGJGGJGJGJJGGJJGJJGJGJJJCG8JCGGGJCG=JJJCGGGGGGGCCC1G=GGCGGGGCGGCGGCGGCGGGC=CCGGGCGGCG8CGGCGGGGCGGCGGGG8CGCG===GCGCG=CGGG=GGG\n",
    "@ENA|BS001393|BS001393.1-97\n",
    "AATTCCATTGTTTGTAGATTTGACAC\n",
    "+\"\"\")"
   ]
  }
 ],
 "metadata": {
  "kernelspec": {
   "display_name": "covit",
   "language": "python",
   "name": "python3"
  },
  "language_info": {
   "codemirror_mode": {
    "name": "ipython",
    "version": 3
   },
   "file_extension": ".py",
   "mimetype": "text/x-python",
   "name": "python",
   "nbconvert_exporter": "python",
   "pygments_lexer": "ipython3",
   "version": "3.9.17"
  },
  "orig_nbformat": 4
 },
 "nbformat": 4,
 "nbformat_minor": 2
}
